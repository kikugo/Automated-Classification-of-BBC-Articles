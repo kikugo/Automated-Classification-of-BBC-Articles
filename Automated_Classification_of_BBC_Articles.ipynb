{
  "nbformat": 4,
  "nbformat_minor": 0,
  "metadata": {
    "colab": {
      "provenance": [],
      "gpuType": "T4"
    },
    "kernelspec": {
      "name": "python3",
      "display_name": "Python 3"
    },
    "language_info": {
      "name": "python"
    },
    "accelerator": "GPU"
  },
  "cells": [
    {
      "cell_type": "markdown",
      "source": [
        "## Importing necessary libraries"
      ],
      "metadata": {
        "id": "I8ZHWaL8_txq"
      }
    },
    {
      "cell_type": "code",
      "source": [
        "import os\n",
        "import csv\n",
        "import tensorflow as tf\n",
        "import numpy as np\n",
        "import pandas as pd\n",
        "from tensorflow.keras.preprocessing.text import Tokenizer\n",
        "from tensorflow.keras.preprocessing.sequence import pad_sequences\n",
        "import matplotlib.pyplot as plt\n",
        "from nltk.corpus import stopwords\n",
        "from nltk.stem import WordNetLemmatizer\n",
        "import nltk\n",
        "from tensorflow.keras.callbacks import EarlyStopping, ModelCheckpoint\n",
        "from sklearn.model_selection import train_test_split"
      ],
      "metadata": {
        "id": "DkGAwVtM42Ns"
      },
      "execution_count": 1,
      "outputs": []
    },
    {
      "cell_type": "markdown",
      "source": [
        "## Downloading dataset\n",
        "We will download the [BBC News Classification](https://www.kaggle.com/competitions/learn-ai-bbc/data) dataset from Kaggle."
      ],
      "metadata": {
        "id": "5dK9cQog__yo"
      }
    },
    {
      "cell_type": "code",
      "source": [
        "! pip install -q kaggle\n",
        "!rm -r ~/.kaggle\n",
        "!mkdir ~/.kaggle"
      ],
      "metadata": {
        "id": "jer35nKJAHyL",
        "colab": {
          "base_uri": "https://localhost:8080/"
        },
        "outputId": "e2133a0a-c0b9-4d64-d8f5-11486e36fb14"
      },
      "execution_count": 2,
      "outputs": [
        {
          "output_type": "stream",
          "name": "stdout",
          "text": [
            "rm: cannot remove '/root/.kaggle': No such file or directory\n"
          ]
        }
      ]
    },
    {
      "cell_type": "code",
      "source": [
        "from google.colab import files\n",
        "files.upload()"
      ],
      "metadata": {
        "colab": {
          "base_uri": "https://localhost:8080/",
          "height": 90
        },
        "id": "frJPUGzvBBvn",
        "outputId": "5b3753d7-a33d-44be-ada4-9839ede2b87d"
      },
      "execution_count": 3,
      "outputs": [
        {
          "output_type": "display_data",
          "data": {
            "text/plain": [
              "<IPython.core.display.HTML object>"
            ],
            "text/html": [
              "\n",
              "     <input type=\"file\" id=\"files-47818fc5-43d9-47da-8b89-fc0182c33e3e\" name=\"files[]\" multiple disabled\n",
              "        style=\"border:none\" />\n",
              "     <output id=\"result-47818fc5-43d9-47da-8b89-fc0182c33e3e\">\n",
              "      Upload widget is only available when the cell has been executed in the\n",
              "      current browser session. Please rerun this cell to enable.\n",
              "      </output>\n",
              "      <script>// Copyright 2017 Google LLC\n",
              "//\n",
              "// Licensed under the Apache License, Version 2.0 (the \"License\");\n",
              "// you may not use this file except in compliance with the License.\n",
              "// You may obtain a copy of the License at\n",
              "//\n",
              "//      http://www.apache.org/licenses/LICENSE-2.0\n",
              "//\n",
              "// Unless required by applicable law or agreed to in writing, software\n",
              "// distributed under the License is distributed on an \"AS IS\" BASIS,\n",
              "// WITHOUT WARRANTIES OR CONDITIONS OF ANY KIND, either express or implied.\n",
              "// See the License for the specific language governing permissions and\n",
              "// limitations under the License.\n",
              "\n",
              "/**\n",
              " * @fileoverview Helpers for google.colab Python module.\n",
              " */\n",
              "(function(scope) {\n",
              "function span(text, styleAttributes = {}) {\n",
              "  const element = document.createElement('span');\n",
              "  element.textContent = text;\n",
              "  for (const key of Object.keys(styleAttributes)) {\n",
              "    element.style[key] = styleAttributes[key];\n",
              "  }\n",
              "  return element;\n",
              "}\n",
              "\n",
              "// Max number of bytes which will be uploaded at a time.\n",
              "const MAX_PAYLOAD_SIZE = 100 * 1024;\n",
              "\n",
              "function _uploadFiles(inputId, outputId) {\n",
              "  const steps = uploadFilesStep(inputId, outputId);\n",
              "  const outputElement = document.getElementById(outputId);\n",
              "  // Cache steps on the outputElement to make it available for the next call\n",
              "  // to uploadFilesContinue from Python.\n",
              "  outputElement.steps = steps;\n",
              "\n",
              "  return _uploadFilesContinue(outputId);\n",
              "}\n",
              "\n",
              "// This is roughly an async generator (not supported in the browser yet),\n",
              "// where there are multiple asynchronous steps and the Python side is going\n",
              "// to poll for completion of each step.\n",
              "// This uses a Promise to block the python side on completion of each step,\n",
              "// then passes the result of the previous step as the input to the next step.\n",
              "function _uploadFilesContinue(outputId) {\n",
              "  const outputElement = document.getElementById(outputId);\n",
              "  const steps = outputElement.steps;\n",
              "\n",
              "  const next = steps.next(outputElement.lastPromiseValue);\n",
              "  return Promise.resolve(next.value.promise).then((value) => {\n",
              "    // Cache the last promise value to make it available to the next\n",
              "    // step of the generator.\n",
              "    outputElement.lastPromiseValue = value;\n",
              "    return next.value.response;\n",
              "  });\n",
              "}\n",
              "\n",
              "/**\n",
              " * Generator function which is called between each async step of the upload\n",
              " * process.\n",
              " * @param {string} inputId Element ID of the input file picker element.\n",
              " * @param {string} outputId Element ID of the output display.\n",
              " * @return {!Iterable<!Object>} Iterable of next steps.\n",
              " */\n",
              "function* uploadFilesStep(inputId, outputId) {\n",
              "  const inputElement = document.getElementById(inputId);\n",
              "  inputElement.disabled = false;\n",
              "\n",
              "  const outputElement = document.getElementById(outputId);\n",
              "  outputElement.innerHTML = '';\n",
              "\n",
              "  const pickedPromise = new Promise((resolve) => {\n",
              "    inputElement.addEventListener('change', (e) => {\n",
              "      resolve(e.target.files);\n",
              "    });\n",
              "  });\n",
              "\n",
              "  const cancel = document.createElement('button');\n",
              "  inputElement.parentElement.appendChild(cancel);\n",
              "  cancel.textContent = 'Cancel upload';\n",
              "  const cancelPromise = new Promise((resolve) => {\n",
              "    cancel.onclick = () => {\n",
              "      resolve(null);\n",
              "    };\n",
              "  });\n",
              "\n",
              "  // Wait for the user to pick the files.\n",
              "  const files = yield {\n",
              "    promise: Promise.race([pickedPromise, cancelPromise]),\n",
              "    response: {\n",
              "      action: 'starting',\n",
              "    }\n",
              "  };\n",
              "\n",
              "  cancel.remove();\n",
              "\n",
              "  // Disable the input element since further picks are not allowed.\n",
              "  inputElement.disabled = true;\n",
              "\n",
              "  if (!files) {\n",
              "    return {\n",
              "      response: {\n",
              "        action: 'complete',\n",
              "      }\n",
              "    };\n",
              "  }\n",
              "\n",
              "  for (const file of files) {\n",
              "    const li = document.createElement('li');\n",
              "    li.append(span(file.name, {fontWeight: 'bold'}));\n",
              "    li.append(span(\n",
              "        `(${file.type || 'n/a'}) - ${file.size} bytes, ` +\n",
              "        `last modified: ${\n",
              "            file.lastModifiedDate ? file.lastModifiedDate.toLocaleDateString() :\n",
              "                                    'n/a'} - `));\n",
              "    const percent = span('0% done');\n",
              "    li.appendChild(percent);\n",
              "\n",
              "    outputElement.appendChild(li);\n",
              "\n",
              "    const fileDataPromise = new Promise((resolve) => {\n",
              "      const reader = new FileReader();\n",
              "      reader.onload = (e) => {\n",
              "        resolve(e.target.result);\n",
              "      };\n",
              "      reader.readAsArrayBuffer(file);\n",
              "    });\n",
              "    // Wait for the data to be ready.\n",
              "    let fileData = yield {\n",
              "      promise: fileDataPromise,\n",
              "      response: {\n",
              "        action: 'continue',\n",
              "      }\n",
              "    };\n",
              "\n",
              "    // Use a chunked sending to avoid message size limits. See b/62115660.\n",
              "    let position = 0;\n",
              "    do {\n",
              "      const length = Math.min(fileData.byteLength - position, MAX_PAYLOAD_SIZE);\n",
              "      const chunk = new Uint8Array(fileData, position, length);\n",
              "      position += length;\n",
              "\n",
              "      const base64 = btoa(String.fromCharCode.apply(null, chunk));\n",
              "      yield {\n",
              "        response: {\n",
              "          action: 'append',\n",
              "          file: file.name,\n",
              "          data: base64,\n",
              "        },\n",
              "      };\n",
              "\n",
              "      let percentDone = fileData.byteLength === 0 ?\n",
              "          100 :\n",
              "          Math.round((position / fileData.byteLength) * 100);\n",
              "      percent.textContent = `${percentDone}% done`;\n",
              "\n",
              "    } while (position < fileData.byteLength);\n",
              "  }\n",
              "\n",
              "  // All done.\n",
              "  yield {\n",
              "    response: {\n",
              "      action: 'complete',\n",
              "    }\n",
              "  };\n",
              "}\n",
              "\n",
              "scope.google = scope.google || {};\n",
              "scope.google.colab = scope.google.colab || {};\n",
              "scope.google.colab._files = {\n",
              "  _uploadFiles,\n",
              "  _uploadFilesContinue,\n",
              "};\n",
              "})(self);\n",
              "</script> "
            ]
          },
          "metadata": {}
        },
        {
          "output_type": "stream",
          "name": "stdout",
          "text": [
            "Saving kaggle.json to kaggle.json\n"
          ]
        },
        {
          "output_type": "execute_result",
          "data": {
            "text/plain": [
              "{'kaggle.json': b'{\"username\":\"kikugo\",\"key\":\"37a93e7ee1d2c922c601706a9409dcf3\"}'}"
            ]
          },
          "metadata": {},
          "execution_count": 3
        }
      ]
    },
    {
      "cell_type": "code",
      "source": [
        "!mv ./kaggle.json ~/.kaggle/\n",
        "!chmod 600 ~/.kaggle/kaggle.json\n",
        "!ls -l ~/.kaggle/kaggle.json"
      ],
      "metadata": {
        "colab": {
          "base_uri": "https://localhost:8080/"
        },
        "id": "XFOfoUqnBYE7",
        "outputId": "beaa4d73-170b-4257-f2a3-4da356cafb48"
      },
      "execution_count": 4,
      "outputs": [
        {
          "output_type": "stream",
          "name": "stdout",
          "text": [
            "-rw------- 1 root root 62 Aug 27 22:42 /root/.kaggle/kaggle.json\n"
          ]
        }
      ]
    },
    {
      "cell_type": "code",
      "source": [
        "!kaggle competitions download -c learn-ai-bbc"
      ],
      "metadata": {
        "colab": {
          "base_uri": "https://localhost:8080/"
        },
        "id": "1y8LbJ-tBfFR",
        "outputId": "dcfb364e-327f-406c-cea7-b47521a6ad52"
      },
      "execution_count": 5,
      "outputs": [
        {
          "output_type": "stream",
          "name": "stdout",
          "text": [
            "Downloading learn-ai-bbc.zip to /content\n",
            "100% 1.85M/1.85M [00:01<00:00, 1.96MB/s]\n",
            "100% 1.85M/1.85M [00:01<00:00, 1.73MB/s]\n"
          ]
        }
      ]
    },
    {
      "cell_type": "code",
      "source": [
        "!mkdir /content/data\n",
        "!unzip -q /content/learn-ai-bbc.zip -d /content/data/\n",
        "!rm -r /content/learn-ai-bbc.zip"
      ],
      "metadata": {
        "id": "HOJgzrEyB-Q_"
      },
      "execution_count": 6,
      "outputs": []
    },
    {
      "cell_type": "code",
      "source": [
        "os.listdir('/content/data/')"
      ],
      "metadata": {
        "colab": {
          "base_uri": "https://localhost:8080/"
        },
        "id": "7pPzmLYSClUc",
        "outputId": "69285c33-98e4-4eee-80e3-ad38f82a8331"
      },
      "execution_count": 7,
      "outputs": [
        {
          "output_type": "execute_result",
          "data": {
            "text/plain": [
              "['BBC News Sample Solution.csv', 'BBC News Train.csv', 'BBC News Test.csv']"
            ]
          },
          "metadata": {},
          "execution_count": 7
        }
      ]
    },
    {
      "cell_type": "code",
      "source": [
        "with open(\"/content/data/BBC News Train.csv\", 'r') as csvfile:\n",
        "    print(f\"CSV header:\\n {csvfile.readline()}\")\n",
        "    print(f\"First data point:\\n {csvfile.readline()}\")"
      ],
      "metadata": {
        "colab": {
          "base_uri": "https://localhost:8080/"
        },
        "id": "6kcOvtTXD-97",
        "outputId": "419d4d91-bbcf-4234-8a29-b0eb79d15d6e"
      },
      "execution_count": 8,
      "outputs": [
        {
          "output_type": "stream",
          "name": "stdout",
          "text": [
            "CSV header:\n",
            " ArticleId,Text,Category\n",
            "\n",
            "First data point:\n",
            " 1833,worldcom ex-boss launches defence lawyers defending former worldcom chief bernie ebbers against a battery of fraud charges have called a company whistleblower as their first witness.  cynthia cooper  worldcom s ex-head of internal accounting  alerted directors to irregular accounting practices at the us telecoms giant in 2002. her warnings led to the collapse of the firm following the discovery of an $11bn (£5.7bn) accounting fraud. mr ebbers has pleaded not guilty to charges of fraud and conspiracy.  prosecution lawyers have argued that mr ebbers orchestrated a series of accounting tricks at worldcom  ordering employees to hide expenses and inflate revenues to meet wall street earnings estimates. but ms cooper  who now runs her own consulting business  told a jury in new york on wednesday that external auditors arthur andersen had approved worldcom s accounting in early 2001 and 2002. she said andersen had given a  green light  to the procedures and practices used by worldcom. mr ebber s lawyers have said he was unaware of the fraud  arguing that auditors did not alert him to any problems.  ms cooper also said that during shareholder meetings mr ebbers often passed over technical questions to the company s finance chief  giving only  brief  answers himself. the prosecution s star witness  former worldcom financial chief scott sullivan  has said that mr ebbers ordered accounting adjustments at the firm  telling him to  hit our books . however  ms cooper said mr sullivan had not mentioned  anything uncomfortable  about worldcom s accounting during a 2001 audit committee meeting. mr ebbers could face a jail sentence of 85 years if convicted of all the charges he is facing. worldcom emerged from bankruptcy protection in 2004  and is now known as mci. last week  mci agreed to a buyout by verizon communications in a deal valued at $6.75bn.,business\n",
            "\n"
          ]
        }
      ]
    },
    {
      "cell_type": "code",
      "source": [
        "with open(\"/content/data/BBC News Test.csv\", 'r') as csvfile:\n",
        "    print(f\"CSV header:\\n {csvfile.readline()}\")\n",
        "    print(f\"First data point:\\n {csvfile.readline()}\")"
      ],
      "metadata": {
        "colab": {
          "base_uri": "https://localhost:8080/"
        },
        "id": "18B7kCMFFB9Y",
        "outputId": "06297a70-18de-4960-d0b3-1d7dde0e97ba"
      },
      "execution_count": 9,
      "outputs": [
        {
          "output_type": "stream",
          "name": "stdout",
          "text": [
            "CSV header:\n",
            " ArticleId,Text\n",
            "\n",
            "First data point:\n",
            " 1018,qpr keeper day heads for preston queens park rangers keeper chris day is set to join preston on a month s loan.  day has been displaced by the arrival of simon royce  who is in his second month on loan from charlton. qpr have also signed italian generoso rossi. r s manager ian holloway said:  some might say it s a risk as he can t be recalled during that month and simon royce can now be recalled by charlton.  but i have other irons in the fire. i have had a  yes  from a couple of others should i need them.   day s rangers contract expires in the summer. meanwhile  holloway is hoping to complete the signing of middlesbrough defender andy davies - either permanently or again on loan - before saturday s match at ipswich. davies impressed during a recent loan spell at loftus road. holloway is also chasing bristol city midfielder tom doherty.\n",
            "\n"
          ]
        }
      ]
    },
    {
      "cell_type": "markdown",
      "source": [
        "As you can see, each data point in the training set is composed of:\n",
        "\n",
        "1. an `ArticleId`\n",
        "2. the `Text` of the news article, and\n",
        "3. the `Category` of the article.\n",
        "\n",
        "And they are separated by commas.\n",
        "\n",
        "The `testing` set, however doesn't have any `Category` feature, and it's our job is to determine the most likely category of a given a article from the `test` dataset."
      ],
      "metadata": {
        "id": "SP27F61LFFnt"
      }
    },
    {
      "cell_type": "markdown",
      "source": [
        "## Setting up hyperparameters\n",
        "\n",
        "Now, let's define some hyperparaters that will be used in data preparation and pre-processing tasks."
      ],
      "metadata": {
        "id": "WIS3CtxxG4aj"
      }
    },
    {
      "cell_type": "code",
      "source": [
        "NUM_WORDS = 1000\n",
        "EMBEDDING_DIM = 16\n",
        "MAXLEN = 120\n",
        "PADDING = 'post'\n",
        "OOV_TOKEN = \"<OOV>\"\n",
        "TRAINING_SPLIT = .8"
      ],
      "metadata": {
        "id": "ABH_QJQuH14a"
      },
      "execution_count": 10,
      "outputs": []
    },
    {
      "cell_type": "markdown",
      "source": [
        "## Loading and pre-processing data\n",
        "\n",
        "First, let's start with the definiton of the methods to remove stopwords from the training texts."
      ],
      "metadata": {
        "id": "PSSQB9nPItwB"
      }
    },
    {
      "cell_type": "code",
      "source": [
        "nltk.download('stopwords')\n",
        "stopwords_list = set(stopwords.words('english'))\n",
        "lemmatizer = WordNetLemmatizer()\n",
        "\n",
        "def remove_stopwords(sentence):\n",
        "    sentence = sentence.lower()\n",
        "    word_list = sentence.split()\n",
        "    words = [w for w in word_list if w not in stopwords_list]\n",
        "    return \" \".join(words)\n",
        "\n",
        "def lemmatize_sentence(sentence):\n",
        "    words = sentence.split()\n",
        "    lemmatized_words = [lemmatizer.lemmatize(w) for w in words]\n",
        "    return \" \".join(lemmatized_words)\n",
        "\n",
        "def preprocess_sentence(sentence):\n",
        "    sentence = remove_stopwords(sentence)\n",
        "    return lemmatize_sentence(sentence)"
      ],
      "metadata": {
        "id": "RfR8ZMAtJJTF",
        "colab": {
          "base_uri": "https://localhost:8080/"
        },
        "outputId": "9c346979-191c-4205-dcda-ef3968c2083f"
      },
      "execution_count": 11,
      "outputs": [
        {
          "output_type": "stream",
          "name": "stderr",
          "text": [
            "[nltk_data] Downloading package stopwords to /root/nltk_data...\n",
            "[nltk_data]   Unzipping corpora/stopwords.zip.\n"
          ]
        }
      ]
    },
    {
      "cell_type": "markdown",
      "source": [
        "Now, let's define the `parse_data_from_file()` method to load training dataset and extract texts and corresponding categories."
      ],
      "metadata": {
        "id": "SfVWSZvPLQoz"
      }
    },
    {
      "cell_type": "code",
      "source": [
        "def parse_data_from_file(filename):\n",
        "    sentences = []\n",
        "    labels = []\n",
        "    with open(filename, 'r') as csvfile:\n",
        "        reader = csv.reader(csvfile, delimiter=',')\n",
        "        next(reader)\n",
        "        for row in reader:\n",
        "            labels.append(row[2])\n",
        "            sentence = row[1]\n",
        "            sentence = remove_stopwords(sentence)\n",
        "            sentences.append(sentence)\n",
        "\n",
        "    return sentences, labels"
      ],
      "metadata": {
        "id": "Q-6_zp6JLM9X"
      },
      "execution_count": 12,
      "outputs": []
    },
    {
      "cell_type": "markdown",
      "source": [
        "Now, let's call the `parse_data_from_file()` method and check out the detailed information about the training dataset."
      ],
      "metadata": {
        "id": "o-16NoW5L-5G"
      }
    },
    {
      "cell_type": "code",
      "source": [
        "sentences, labels = parse_data_from_file(\"/content/data/BBC News Train.csv\")\n",
        "\n",
        "print(f\"Number of sentences: {len(sentences)}\")\n",
        "print(f\"Length of the first sentence (after stopword removal): {len(sentences[0].split())}\")\n",
        "print(f\"Number of labels: {len(labels)}\")\n",
        "print(f\"First 10 labels: {labels[:10]}\")\n",
        "print(f\"Average sentence length: {sum(len(sentence.split()) for sentence in sentences) / len(sentences)}\")"
      ],
      "metadata": {
        "colab": {
          "base_uri": "https://localhost:8080/"
        },
        "id": "swV6AA1KMX4B",
        "outputId": "3c060f61-25af-4ac9-9016-9e5a391691bd"
      },
      "execution_count": 13,
      "outputs": [
        {
          "output_type": "stream",
          "name": "stdout",
          "text": [
            "Number of sentences: 1490\n",
            "Length of the first sentence (after stopword removal): 193\n",
            "Number of labels: 1490\n",
            "First 10 labels: ['business', 'business', 'business', 'tech', 'business', 'politics', 'sport', 'entertainment', 'business', 'entertainment']\n",
            "Average sentence length: 222.7771812080537\n"
          ]
        }
      ]
    },
    {
      "cell_type": "markdown",
      "source": [
        "## Train & Validation Split\n",
        "\n",
        "The deep learning model we will use to classify news articles requires the training dataset splitted into: 1) a `train` set, and 2) a `validation` set.\n",
        "\n",
        "Let's define the `train_val_split()` method to split the training dataset into training and validation sentences and labels given a training split size set as `TRAINING_SPLIT` earlier.\n"
      ],
      "metadata": {
        "id": "385BwvPFNZXk"
      }
    },
    {
      "cell_type": "code",
      "source": [
        "def train_val_split(sentences, labels, training_split):\n",
        "    train_size = int(len(sentences) * training_split)\n",
        "    train_sentences = sentences[0:train_size]\n",
        "    train_labels = labels[0:train_size]\n",
        "    validation_sentences = sentences[train_size:]\n",
        "    validation_labels = labels[train_size:]\n",
        "\n",
        "    return train_sentences, validation_sentences, train_labels, validation_labels"
      ],
      "metadata": {
        "id": "2DJfxjzjOghG"
      },
      "execution_count": 14,
      "outputs": []
    },
    {
      "cell_type": "markdown",
      "source": [
        "Now, it's time to call the `train_val_split()` method and split the training dataset into train/validation splits."
      ],
      "metadata": {
        "id": "xqcnkfGyO65Z"
      }
    },
    {
      "cell_type": "code",
      "source": [
        "train_sentences, val_sentences, train_labels, val_labels = train_val_split(sentences, labels, TRAINING_SPLIT)\n",
        "\n",
        "print(f\"Number of sentences for training: {len(train_sentences)} \\n\")\n",
        "print(f\"Number of labels for training: {len(train_labels)}\\n\")\n",
        "print(f\"Number of sentences for validation: {len(val_sentences)} \\n\")\n",
        "print(f\"Number of labels for validation: {len(val_labels)}\")"
      ],
      "metadata": {
        "colab": {
          "base_uri": "https://localhost:8080/"
        },
        "id": "VWmEAIg1PLMF",
        "outputId": "c86d8f41-141f-4ae8-a019-e788277d63a1"
      },
      "execution_count": 15,
      "outputs": [
        {
          "output_type": "stream",
          "name": "stdout",
          "text": [
            "Number of sentences for training: 1192 \n",
            "\n",
            "Number of labels for training: 1192\n",
            "\n",
            "Number of sentences for validation: 298 \n",
            "\n",
            "Number of labels for validation: 298\n"
          ]
        }
      ]
    },
    {
      "cell_type": "markdown",
      "source": [
        "## Tokenization: Sequences and Padding\n",
        "\n",
        "First, we define the `fit_tokenizer()` method to return a `Tokenizer` for us that has been fitted to the training sentences."
      ],
      "metadata": {
        "id": "DKcqfIKXPrwQ"
      }
    },
    {
      "cell_type": "code",
      "source": [
        "def fit_tokenizer(train_sentences, num_words, oov_token):\n",
        "    tokenizer = Tokenizer(num_words=num_words, oov_token=oov_token)\n",
        "    tokenizer.fit_on_texts(train_sentences)\n",
        "\n",
        "    return tokenizer"
      ],
      "metadata": {
        "id": "eIbRsLzAQUVL"
      },
      "execution_count": 16,
      "outputs": []
    },
    {
      "cell_type": "markdown",
      "source": [
        "Now, let's call the `fit_tokenizer()` method to fit the `Tokenizer` to the training sentences."
      ],
      "metadata": {
        "id": "SxH68ZoPREM2"
      }
    },
    {
      "cell_type": "code",
      "source": [
        "tokenizer = fit_tokenizer(train_sentences, NUM_WORDS, OOV_TOKEN)\n",
        "word_index = tokenizer.word_index\n",
        "\n",
        "print(f\"Number of words in the vocabulary: {len(word_index)}\\n\")"
      ],
      "metadata": {
        "colab": {
          "base_uri": "https://localhost:8080/"
        },
        "id": "ke3gXjaeRHpS",
        "outputId": "4f2bec75-b733-4d9a-df39-70318b433cc1"
      },
      "execution_count": 17,
      "outputs": [
        {
          "output_type": "stream",
          "name": "stdout",
          "text": [
            "Number of words in the vocabulary: 22631\n",
            "\n"
          ]
        }
      ]
    },
    {
      "cell_type": "markdown",
      "source": [
        "Since we already tokenize the traning sentences, now, let's define and run the following `seq_and_pad()` method to convert each text data point into its padded sequence representation."
      ],
      "metadata": {
        "id": "7OIA4oS8S03D"
      }
    },
    {
      "cell_type": "code",
      "source": [
        "def seq_and_pad(sentences, tokenizer, padding, maxlen):\n",
        "    sequences = tokenizer.texts_to_sequences(sentences)\n",
        "    padded_sequences = pad_sequences(sequences,\n",
        "                                     maxlen=maxlen,\n",
        "                                     padding=padding,\n",
        "                                     truncating='post')\n",
        "\n",
        "    return padded_sequences"
      ],
      "metadata": {
        "id": "fmSxq-JQS7P8"
      },
      "execution_count": 18,
      "outputs": []
    },
    {
      "cell_type": "markdown",
      "source": [
        "Run the `seq_and_pad()` method and get the padded training sequences."
      ],
      "metadata": {
        "id": "hVbBEQ4dVoUM"
      }
    },
    {
      "cell_type": "code",
      "source": [
        "train_padded_seq = seq_and_pad(train_sentences, tokenizer, PADDING, MAXLEN)\n",
        "val_padded_seq = seq_and_pad(val_sentences, tokenizer, PADDING, MAXLEN)\n",
        "\n",
        "print(f\"Shape of padded training sequences: {train_padded_seq.shape}\\n\")\n",
        "print(f\"Shape of padded validation sequences: {val_padded_seq.shape}\")"
      ],
      "metadata": {
        "colab": {
          "base_uri": "https://localhost:8080/"
        },
        "id": "zVIFiSDHS-8r",
        "outputId": "ee88a3d6-9b97-4a41-e97c-5f7d1d550e87"
      },
      "execution_count": 19,
      "outputs": [
        {
          "output_type": "stream",
          "name": "stdout",
          "text": [
            "Shape of padded training sequences: (1192, 120)\n",
            "\n",
            "Shape of padded validation sequences: (298, 120)\n"
          ]
        }
      ]
    },
    {
      "cell_type": "markdown",
      "source": [
        "Finally, we need to tokenize the labels. Let's define the `tokenize_labels()` method to achieve our goal."
      ],
      "metadata": {
        "id": "EaaK3YsmWHBe"
      }
    },
    {
      "cell_type": "code",
      "source": [
        "def tokenize_labels(all_labels, split_labels):\n",
        "    label_tokenizer = Tokenizer()\n",
        "    label_tokenizer.fit_on_texts(all_labels)\n",
        "    label_seq = label_tokenizer.texts_to_sequences(split_labels)\n",
        "    label_seq_np = np.array(label_seq)-1\n",
        "\n",
        "    return label_seq_np"
      ],
      "metadata": {
        "id": "gb9_oBfnTJsD"
      },
      "execution_count": 20,
      "outputs": []
    },
    {
      "cell_type": "markdown",
      "source": [
        "Call the `tokenizer_labels()` method to tokenize the labels and convert into numpy arrays."
      ],
      "metadata": {
        "id": "JNAjxFoDYIHp"
      }
    },
    {
      "cell_type": "code",
      "source": [
        "train_label_seq = tokenize_labels(labels, train_labels)\n",
        "val_label_seq = tokenize_labels(labels, val_labels)\n",
        "\n",
        "print(f\"Shape of tokenized labels of the training set: {train_label_seq.shape}\\n\")\n",
        "print(f\"Shape of tokenized labels of the validation set: {val_label_seq.shape}\\n\")\n",
        "print(f\"First 5 labels of the training set:\\n{train_label_seq[:5]}\\n\")\n",
        "print(f\"First 5 labels of the validation set:\\n{val_label_seq[:5]}\\n\")"
      ],
      "metadata": {
        "colab": {
          "base_uri": "https://localhost:8080/"
        },
        "id": "tHq3OjVbTNOV",
        "outputId": "18157f1f-3812-42b8-e694-f0ed49981a96"
      },
      "execution_count": 21,
      "outputs": [
        {
          "output_type": "stream",
          "name": "stdout",
          "text": [
            "Shape of tokenized labels of the training set: (1192, 1)\n",
            "\n",
            "Shape of tokenized labels of the validation set: (298, 1)\n",
            "\n",
            "First 5 labels of the training set:\n",
            "[[1]\n",
            " [1]\n",
            " [1]\n",
            " [4]\n",
            " [1]]\n",
            "\n",
            "First 5 labels of the validation set:\n",
            "[[3]\n",
            " [3]\n",
            " [2]\n",
            " [1]\n",
            " [4]]\n",
            "\n"
          ]
        }
      ]
    },
    {
      "cell_type": "markdown",
      "source": [
        "## Text classification model\n",
        "\n",
        "Our training data is already prepared to be fed into a deep neural network that will work as a text classifier to classify each news article as part of being a certain category.\n",
        "\n",
        "Now, it's time to define our model. Let's define the model architecture by completing the following `model()` method."
      ],
      "metadata": {
        "id": "w_YW_CV_Y6qC"
      }
    },
    {
      "cell_type": "code",
      "source": [
        "def model(num_words, embedding_dim, maxlen, lstm1_dim, lstm2_dim, num_categories):\n",
        "    tf.random.set_seed(123)\n",
        "    model = tf.keras.Sequential([\n",
        "        tf.keras.layers.Embedding(num_words, embedding_dim, input_length=maxlen),\n",
        "        tf.keras.layers.Bidirectional(tf.keras.layers.LSTM(lstm1_dim, return_sequences=True)),\n",
        "        tf.keras.layers.Bidirectional(tf.keras.layers.LSTM(lstm2_dim)),\n",
        "        tf.keras.layers.Dense(num_categories, activation='softmax')\n",
        "    ])\n",
        "    model.compile(loss='sparse_categorical_crossentropy',\n",
        "                  optimizer='adam',\n",
        "                  metrics=['accuracy'])\n",
        "\n",
        "    return model"
      ],
      "metadata": {
        "id": "WCOLCAn9ZGgH"
      },
      "execution_count": 22,
      "outputs": []
    },
    {
      "cell_type": "markdown",
      "source": [
        "Before generating the model using `model()`, let's find out how many unique categories the training dataset have."
      ],
      "metadata": {
        "id": "GCURzShjdNGx"
      }
    },
    {
      "cell_type": "code",
      "source": [
        "num_unique_categories = np.unique(labels)\n",
        "print(f'Number of unique categories in the training dataset: {len(num_unique_categories)}')"
      ],
      "metadata": {
        "colab": {
          "base_uri": "https://localhost:8080/"
        },
        "id": "Kf5GKwXYdXlR",
        "outputId": "0288e4fa-7ea3-4368-ce8f-b2f2398ada9b"
      },
      "execution_count": 23,
      "outputs": [
        {
          "output_type": "stream",
          "name": "stdout",
          "text": [
            "Number of unique categories in the training dataset: 5\n"
          ]
        }
      ]
    },
    {
      "cell_type": "markdown",
      "source": [
        "Now, let's create the model first."
      ],
      "metadata": {
        "id": "GwFADViYeLHV"
      }
    },
    {
      "cell_type": "code",
      "source": [
        "lstm1_dim = 32\n",
        "lstm2_dim = 16\n",
        "model = model(NUM_WORDS, EMBEDDING_DIM, MAXLEN, lstm1_dim, lstm2_dim, len(num_unique_categories))"
      ],
      "metadata": {
        "colab": {
          "base_uri": "https://localhost:8080/"
        },
        "id": "bXBqq-vGegQ1",
        "outputId": "43acddb4-84b9-4dfd-8494-c0db76bde9b3"
      },
      "execution_count": 24,
      "outputs": [
        {
          "output_type": "stream",
          "name": "stderr",
          "text": [
            "/usr/local/lib/python3.10/dist-packages/keras/src/layers/core/embedding.py:90: UserWarning: Argument `input_length` is deprecated. Just remove it.\n",
            "  warnings.warn(\n"
          ]
        }
      ]
    },
    {
      "cell_type": "markdown",
      "source": [
        "And train the model with prepared training datasets."
      ],
      "metadata": {
        "id": "5WB6II_mlZ1f"
      }
    },
    {
      "cell_type": "code",
      "source": [
        "history = model.fit(train_padded_seq, train_label_seq, epochs=30, validation_data=(val_padded_seq, val_label_seq))"
      ],
      "metadata": {
        "id": "_yLvJmXTljZg",
        "colab": {
          "base_uri": "https://localhost:8080/"
        },
        "outputId": "c5bfea97-db2c-49de-9f62-48b65ac1b243"
      },
      "execution_count": 25,
      "outputs": [
        {
          "output_type": "stream",
          "name": "stdout",
          "text": [
            "Epoch 1/30\n",
            "\u001b[1m38/38\u001b[0m \u001b[32m━━━━━━━━━━━━━━━━━━━━\u001b[0m\u001b[37m\u001b[0m \u001b[1m14s\u001b[0m 33ms/step - accuracy: 0.2616 - loss: 1.5995 - val_accuracy: 0.3356 - val_loss: 1.5488\n",
            "Epoch 2/30\n",
            "\u001b[1m38/38\u001b[0m \u001b[32m━━━━━━━━━━━━━━━━━━━━\u001b[0m\u001b[37m\u001b[0m \u001b[1m1s\u001b[0m 19ms/step - accuracy: 0.3851 - loss: 1.4526 - val_accuracy: 0.4530 - val_loss: 1.1482\n",
            "Epoch 3/30\n",
            "\u001b[1m38/38\u001b[0m \u001b[32m━━━━━━━━━━━━━━━━━━━━\u001b[0m\u001b[37m\u001b[0m \u001b[1m1s\u001b[0m 19ms/step - accuracy: 0.5782 - loss: 1.0388 - val_accuracy: 0.7819 - val_loss: 0.8362\n",
            "Epoch 4/30\n",
            "\u001b[1m38/38\u001b[0m \u001b[32m━━━━━━━━━━━━━━━━━━━━\u001b[0m\u001b[37m\u001b[0m \u001b[1m1s\u001b[0m 19ms/step - accuracy: 0.7296 - loss: 0.7581 - val_accuracy: 0.7685 - val_loss: 0.6482\n",
            "Epoch 5/30\n",
            "\u001b[1m38/38\u001b[0m \u001b[32m━━━━━━━━━━━━━━━━━━━━\u001b[0m\u001b[37m\u001b[0m \u001b[1m1s\u001b[0m 27ms/step - accuracy: 0.8123 - loss: 0.5153 - val_accuracy: 0.7181 - val_loss: 0.7166\n",
            "Epoch 6/30\n",
            "\u001b[1m38/38\u001b[0m \u001b[32m━━━━━━━━━━━━━━━━━━━━\u001b[0m\u001b[37m\u001b[0m \u001b[1m1s\u001b[0m 30ms/step - accuracy: 0.8261 - loss: 0.4627 - val_accuracy: 0.8389 - val_loss: 0.4865\n",
            "Epoch 7/30\n",
            "\u001b[1m38/38\u001b[0m \u001b[32m━━━━━━━━━━━━━━━━━━━━\u001b[0m\u001b[37m\u001b[0m \u001b[1m1s\u001b[0m 27ms/step - accuracy: 0.8522 - loss: 0.3824 - val_accuracy: 0.7081 - val_loss: 0.5896\n",
            "Epoch 8/30\n",
            "\u001b[1m38/38\u001b[0m \u001b[32m━━━━━━━━━━━━━━━━━━━━\u001b[0m\u001b[37m\u001b[0m \u001b[1m1s\u001b[0m 20ms/step - accuracy: 0.8494 - loss: 0.3837 - val_accuracy: 0.5738 - val_loss: 0.9317\n",
            "Epoch 9/30\n",
            "\u001b[1m38/38\u001b[0m \u001b[32m━━━━━━━━━━━━━━━━━━━━\u001b[0m\u001b[37m\u001b[0m \u001b[1m1s\u001b[0m 20ms/step - accuracy: 0.8006 - loss: 0.5740 - val_accuracy: 0.5101 - val_loss: 1.1432\n",
            "Epoch 10/30\n",
            "\u001b[1m38/38\u001b[0m \u001b[32m━━━━━━━━━━━━━━━━━━━━\u001b[0m\u001b[37m\u001b[0m \u001b[1m1s\u001b[0m 20ms/step - accuracy: 0.5527 - loss: 0.8689 - val_accuracy: 0.7315 - val_loss: 0.7805\n",
            "Epoch 11/30\n",
            "\u001b[1m38/38\u001b[0m \u001b[32m━━━━━━━━━━━━━━━━━━━━\u001b[0m\u001b[37m\u001b[0m \u001b[1m1s\u001b[0m 25ms/step - accuracy: 0.7974 - loss: 0.5935 - val_accuracy: 0.8020 - val_loss: 0.5456\n",
            "Epoch 12/30\n",
            "\u001b[1m38/38\u001b[0m \u001b[32m━━━━━━━━━━━━━━━━━━━━\u001b[0m\u001b[37m\u001b[0m \u001b[1m1s\u001b[0m 22ms/step - accuracy: 0.8869 - loss: 0.3934 - val_accuracy: 0.7718 - val_loss: 0.4733\n",
            "Epoch 13/30\n",
            "\u001b[1m38/38\u001b[0m \u001b[32m━━━━━━━━━━━━━━━━━━━━\u001b[0m\u001b[37m\u001b[0m \u001b[1m1s\u001b[0m 20ms/step - accuracy: 0.9080 - loss: 0.2879 - val_accuracy: 0.8221 - val_loss: 0.5753\n",
            "Epoch 14/30\n",
            "\u001b[1m38/38\u001b[0m \u001b[32m━━━━━━━━━━━━━━━━━━━━\u001b[0m\u001b[37m\u001b[0m \u001b[1m1s\u001b[0m 19ms/step - accuracy: 0.8619 - loss: 0.4403 - val_accuracy: 0.8859 - val_loss: 0.3932\n",
            "Epoch 15/30\n",
            "\u001b[1m38/38\u001b[0m \u001b[32m━━━━━━━━━━━━━━━━━━━━\u001b[0m\u001b[37m\u001b[0m \u001b[1m1s\u001b[0m 20ms/step - accuracy: 0.9246 - loss: 0.2741 - val_accuracy: 0.8658 - val_loss: 0.4621\n",
            "Epoch 16/30\n",
            "\u001b[1m38/38\u001b[0m \u001b[32m━━━━━━━━━━━━━━━━━━━━\u001b[0m\u001b[37m\u001b[0m \u001b[1m1s\u001b[0m 20ms/step - accuracy: 0.9063 - loss: 0.2755 - val_accuracy: 0.8221 - val_loss: 0.5345\n",
            "Epoch 17/30\n",
            "\u001b[1m38/38\u001b[0m \u001b[32m━━━━━━━━━━━━━━━━━━━━\u001b[0m\u001b[37m\u001b[0m \u001b[1m1s\u001b[0m 24ms/step - accuracy: 0.9280 - loss: 0.2807 - val_accuracy: 0.8826 - val_loss: 0.4182\n",
            "Epoch 18/30\n",
            "\u001b[1m38/38\u001b[0m \u001b[32m━━━━━━━━━━━━━━━━━━━━\u001b[0m\u001b[37m\u001b[0m \u001b[1m1s\u001b[0m 28ms/step - accuracy: 0.9614 - loss: 0.1613 - val_accuracy: 0.8725 - val_loss: 0.3982\n",
            "Epoch 19/30\n",
            "\u001b[1m38/38\u001b[0m \u001b[32m━━━━━━━━━━━━━━━━━━━━\u001b[0m\u001b[37m\u001b[0m \u001b[1m1s\u001b[0m 23ms/step - accuracy: 0.9681 - loss: 0.1406 - val_accuracy: 0.8758 - val_loss: 0.3963\n",
            "Epoch 20/30\n",
            "\u001b[1m38/38\u001b[0m \u001b[32m━━━━━━━━━━━━━━━━━━━━\u001b[0m\u001b[37m\u001b[0m \u001b[1m1s\u001b[0m 20ms/step - accuracy: 0.9643 - loss: 0.1287 - val_accuracy: 0.8960 - val_loss: 0.3505\n",
            "Epoch 21/30\n",
            "\u001b[1m38/38\u001b[0m \u001b[32m━━━━━━━━━━━━━━━━━━━━\u001b[0m\u001b[37m\u001b[0m \u001b[1m1s\u001b[0m 19ms/step - accuracy: 0.9832 - loss: 0.0888 - val_accuracy: 0.9060 - val_loss: 0.3416\n",
            "Epoch 22/30\n",
            "\u001b[1m38/38\u001b[0m \u001b[32m━━━━━━━━━━━━━━━━━━━━\u001b[0m\u001b[37m\u001b[0m \u001b[1m1s\u001b[0m 19ms/step - accuracy: 0.9892 - loss: 0.0628 - val_accuracy: 0.8993 - val_loss: 0.3861\n",
            "Epoch 23/30\n",
            "\u001b[1m38/38\u001b[0m \u001b[32m━━━━━━━━━━━━━━━━━━━━\u001b[0m\u001b[37m\u001b[0m \u001b[1m1s\u001b[0m 19ms/step - accuracy: 0.9899 - loss: 0.0581 - val_accuracy: 0.8960 - val_loss: 0.3808\n",
            "Epoch 24/30\n",
            "\u001b[1m38/38\u001b[0m \u001b[32m━━━━━━━━━━━━━━━━━━━━\u001b[0m\u001b[37m\u001b[0m \u001b[1m1s\u001b[0m 20ms/step - accuracy: 0.9925 - loss: 0.0455 - val_accuracy: 0.8859 - val_loss: 0.3928\n",
            "Epoch 25/30\n",
            "\u001b[1m38/38\u001b[0m \u001b[32m━━━━━━━━━━━━━━━━━━━━\u001b[0m\u001b[37m\u001b[0m \u001b[1m1s\u001b[0m 19ms/step - accuracy: 0.9953 - loss: 0.0368 - val_accuracy: 0.8859 - val_loss: 0.4199\n",
            "Epoch 26/30\n",
            "\u001b[1m38/38\u001b[0m \u001b[32m━━━━━━━━━━━━━━━━━━━━\u001b[0m\u001b[37m\u001b[0m \u001b[1m1s\u001b[0m 19ms/step - accuracy: 0.9973 - loss: 0.0317 - val_accuracy: 0.8893 - val_loss: 0.4198\n",
            "Epoch 27/30\n",
            "\u001b[1m38/38\u001b[0m \u001b[32m━━━━━━━━━━━━━━━━━━━━\u001b[0m\u001b[37m\u001b[0m \u001b[1m1s\u001b[0m 19ms/step - accuracy: 0.9988 - loss: 0.0251 - val_accuracy: 0.8960 - val_loss: 0.4310\n",
            "Epoch 28/30\n",
            "\u001b[1m38/38\u001b[0m \u001b[32m━━━━━━━━━━━━━━━━━━━━\u001b[0m\u001b[37m\u001b[0m \u001b[1m1s\u001b[0m 19ms/step - accuracy: 0.9982 - loss: 0.0242 - val_accuracy: 0.8993 - val_loss: 0.4173\n",
            "Epoch 29/30\n",
            "\u001b[1m38/38\u001b[0m \u001b[32m━━━━━━━━━━━━━━━━━━━━\u001b[0m\u001b[37m\u001b[0m \u001b[1m1s\u001b[0m 19ms/step - accuracy: 0.9988 - loss: 0.0206 - val_accuracy: 0.9027 - val_loss: 0.4329\n",
            "Epoch 30/30\n",
            "\u001b[1m38/38\u001b[0m \u001b[32m━━━━━━━━━━━━━━━━━━━━\u001b[0m\u001b[37m\u001b[0m \u001b[1m1s\u001b[0m 24ms/step - accuracy: 0.9988 - loss: 0.0194 - val_accuracy: 0.8993 - val_loss: 0.4381\n"
          ]
        }
      ]
    },
    {
      "cell_type": "markdown",
      "source": [
        "## Evaluating Model Training\n",
        "\n",
        "Now, let check how the model performed during the training process."
      ],
      "metadata": {
        "id": "dZXlBnZ1gwbf"
      }
    },
    {
      "cell_type": "code",
      "source": [
        "def evaluate_model(history):\n",
        "    epoch_accuracy = history.history['accuracy']\n",
        "    epoch_val_accuracy = history.history['val_accuracy']\n",
        "    epoch_loss = history.history['loss']\n",
        "    epoch_val_loss = history.history['val_loss']\n",
        "    plt.figure(figsize=(20, 6))\n",
        "\n",
        "    plt.subplot(1, 2, 1)\n",
        "    plt.plot(range(0, len(epoch_accuracy)), epoch_accuracy, 'b-', linewidth=2, label='Training Accuracy')\n",
        "    plt.plot(range(0, len(epoch_val_accuracy)), epoch_val_accuracy, 'r-', linewidth=2, label='Validation Accuracy')\n",
        "    plt.title('Training & validation accuracy over epochs')\n",
        "    plt.xlabel('Epoch')\n",
        "    plt.ylabel('Accuracy')\n",
        "    plt.legend(loc='best')\n",
        "\n",
        "    plt.subplot(1, 2, 2)\n",
        "    plt.plot(range(0, len(epoch_loss)), epoch_loss, 'b-', linewidth=2, label='Training Loss')\n",
        "    plt.plot(range(0, len(epoch_val_loss)), epoch_val_loss, 'r-', linewidth=2, label='Validation Loss')\n",
        "    plt.title('Training & validation loss over epochs')\n",
        "    plt.xlabel('Epoch')\n",
        "    plt.ylabel('Loss')\n",
        "    plt.legend(loc='best')\n",
        "\n",
        "    plt.show()"
      ],
      "metadata": {
        "id": "YOrgrYhBhgR2"
      },
      "execution_count": 26,
      "outputs": []
    },
    {
      "cell_type": "code",
      "source": [
        "evaluate_model(history)"
      ],
      "metadata": {
        "id": "-4KWu0phjF2H",
        "colab": {
          "base_uri": "https://localhost:8080/",
          "height": 564
        },
        "outputId": "f35e14cb-be6d-49f3-f5e7-139a097a6a56"
      },
      "execution_count": 27,
      "outputs": [
        {
          "output_type": "display_data",
          "data": {
            "text/plain": [
              "<Figure size 2000x600 with 2 Axes>"
            ],
            "image/png": "[encoded data removed]"
          },
          "metadata": {}
        }
      ]
    },
    {
      "cell_type": "markdown",
      "source": [
        "## Prediction\n",
        "\n",
        "Now that our model is successfully trained, let's check how it performs for the test prediction tasks. Before performing prediction task, we need to preprocess our test dataset.\n",
        "\n",
        "Let's start with the removal of stopwords from test dataset first."
      ],
      "metadata": {
        "id": "r2GJtxUBp2ng"
      }
    },
    {
      "cell_type": "code",
      "source": [
        "def load_test_data(filename):\n",
        "    test_sentences = []\n",
        "    test_ids = []\n",
        "    with open(filename, 'r') as csvfile:\n",
        "        reader = csv.reader(csvfile, delimiter=',')\n",
        "        next(reader)\n",
        "        for row in reader:\n",
        "            test_ids.append(row[0])\n",
        "            sentence = row[1]\n",
        "            sentence = remove_stopwords(sentence)\n",
        "            test_sentences.append(sentence)\n",
        "    return test_ids, test_sentences\n",
        "\n",
        "test_ids, test_sentences = load_test_data(\"/content/data/BBC News Test.csv\")\n",
        "\n",
        "print(f\"Number of sentences in the test dataset: {len(test_sentences)}\\n\")\n",
        "print(f\"Number of words in the 1st sentence (after removing stopwords). {len(test_sentences[0].split())}\\n\")"
      ],
      "metadata": {
        "colab": {
          "base_uri": "https://localhost:8080/"
        },
        "id": "lx55wr2lqTJ2",
        "outputId": "7e4d0b1a-5347-4745-db4c-0627c92915b4"
      },
      "execution_count": 28,
      "outputs": [
        {
          "output_type": "stream",
          "name": "stdout",
          "text": [
            "Number of sentences in the test dataset: 735\n",
            "\n",
            "Number of words in the 1st sentence (after removing stopwords). 89\n",
            "\n"
          ]
        }
      ]
    },
    {
      "cell_type": "markdown",
      "source": [
        "After removing stopwords from the test dataset, we must convert the sentences to the token sequences and later to the padded sequences. We can use the same `fit_tokenizer()` and `seq_and_pad()` methods we used for training dataset to achieve our goal here."
      ],
      "metadata": {
        "id": "07rR9OU2s-Cx"
      }
    },
    {
      "cell_type": "code",
      "source": [
        "test_tokenizer = fit_tokenizer(test_sentences, NUM_WORDS, OOV_TOKEN)\n",
        "\n",
        "test_word_index = test_tokenizer.word_index\n",
        "\n",
        "test_padded_seq = seq_and_pad(test_sentences, test_tokenizer, PADDING, MAXLEN)\n",
        "\n",
        "print(f\"Number of words in the test vocabulary: {len(test_word_index)}\\n\")\n",
        "print(f\"Shape of padded training sequences: {test_padded_seq.shape}\\n\")"
      ],
      "metadata": {
        "colab": {
          "base_uri": "https://localhost:8080/"
        },
        "id": "XDy78lJIszpq",
        "outputId": "312186dd-242e-4296-9f5f-22b1fce6e0c9"
      },
      "execution_count": 29,
      "outputs": [
        {
          "output_type": "stream",
          "name": "stdout",
          "text": [
            "Number of words in the test vocabulary: 18582\n",
            "\n",
            "Shape of padded training sequences: (735, 120)\n",
            "\n"
          ]
        }
      ]
    },
    {
      "cell_type": "markdown",
      "source": [
        "#### Now, let's make prediction on the test dataset."
      ],
      "metadata": {
        "id": "F8lYa2hOuaJN"
      }
    },
    {
      "cell_type": "code",
      "source": [
        "predictions = model.predict(test_padded_seq)"
      ],
      "metadata": {
        "colab": {
          "base_uri": "https://localhost:8080/"
        },
        "id": "GTo3nEcIug3L",
        "outputId": "4a314a6e-d622-4e49-887f-5901e3f13b07"
      },
      "execution_count": 30,
      "outputs": [
        {
          "output_type": "stream",
          "name": "stdout",
          "text": [
            "\u001b[1m23/23\u001b[0m \u001b[32m━━━━━━━━━━━━━━━━━━━━\u001b[0m\u001b[37m\u001b[0m \u001b[1m1s\u001b[0m 33ms/step\n"
          ]
        }
      ]
    },
    {
      "cell_type": "code",
      "source": [
        "predicted_classes = predictions.argmax(axis=1)\n",
        "print(f'Predicted classes:\\n\\n {predicted_classes}')"
      ],
      "metadata": {
        "id": "y6O63OxNwvxC",
        "colab": {
          "base_uri": "https://localhost:8080/"
        },
        "outputId": "26322881-a10c-4341-c6c3-b3bad377f0d7"
      },
      "execution_count": 31,
      "outputs": [
        {
          "output_type": "stream",
          "name": "stdout",
          "text": [
            "Predicted classes:\n",
            "\n",
            " [3 4 0 4 3 1 4 1 1 3 4 1 1 2 0 0 1 2 3 0 1 1 2 1 1 4 0 2 3 2 1 4 3 1 1 2 3\n",
            " 1 3 3 3 0 4 4 2 4 1 3 0 1 2 2 2 2 4 3 0 2 3 2 2 0 0 0 2 1 1 0 0 2 2 1 0 4\n",
            " 4 1 0 4 0 1 2 0 1 1 4 2 2 4 1 0 2 2 2 0 1 1 4 3 0 2 0 1 1 3 0 4 1 3 2 0 2\n",
            " 2 0 3 3 2 1 4 0 1 2 4 0 3 0 3 2 4 1 0 4 1 2 0 2 0 1 0 2 3 3 3 3 4 0 4 1 0\n",
            " 1 2 1 2 2 2 0 3 3 3 2 1 4 0 4 0 3 4 1 1 1 4 1 1 3 3 3 0 4 4 0 4 4 0 1 4 4\n",
            " 1 2 3 3 4 1 1 4 3 3 2 2 0 0 3 2 2 2 4 3 3 2 4 3 2 1 1 1 3 1 3 3 0 2 3 0 1\n",
            " 1 4 4 0 3 0 2 0 0 4 4 4 0 4 3 1 1 3 1 2 2 2 2 2 0 0 2 1 2 4 0 0 4 4 2 0 3\n",
            " 2 0 1 2 0 3 2 0 3 4 4 3 2 1 2 0 2 4 4 0 0 0 0 0 1 0 2 3 1 1 2 4 2 4 0 2 3\n",
            " 2 3 3 2 3 0 0 0 2 3 2 2 0 4 1 1 2 0 1 4 3 2 4 4 1 1 0 4 0 0 2 2 0 4 1 1 2\n",
            " 4 2 4 2 4 4 4 2 0 2 2 0 3 2 0 3 3 3 3 1 3 3 2 3 1 2 3 1 3 1 1 2 1 1 0 1 2\n",
            " 0 3 2 3 0 4 4 1 3 2 0 0 0 0 1 1 1 1 3 0 0 2 0 4 1 1 0 1 3 1 2 0 3 1 2 4 2\n",
            " 1 0 3 4 4 0 3 2 4 4 3 3 0 0 2 0 2 1 0 0 0 4 4 2 1 0 0 3 1 0 3 2 0 0 4 0 4\n",
            " 4 0 0 0 0 4 1 2 2 4 2 1 2 1 3 4 0 4 3 4 2 2 3 2 4 2 2 0 2 0 3 2 0 0 0 3 2\n",
            " 4 3 3 1 1 2 4 0 3 4 1 2 2 4 4 0 4 1 2 1 2 3 2 2 3 0 3 4 2 0 4 0 4 4 0 0 4\n",
            " 0 4 0 4 0 4 1 4 0 0 0 3 2 2 0 0 0 4 0 3 3 0 4 2 4 3 1 1 3 3 0 4 1 0 0 1 0\n",
            " 4 0 4 2 2 4 2 1 3 4 4 0 2 1 0 0 4 2 2 1 2 4 0 1 4 4 2 3 2 4 2 4 0 1 1 4 3\n",
            " 4 2 1 4 3 3 0 0 2 2 2 0 4 4 2 0 2 3 0 0 0 1 0 0 4 0 0 4 4 1 2 0 4 0 3 2 3\n",
            " 0 3 4 2 3 4 2 1 4 1 3 4 2 2 2 2 0 4 4 2 0 0 3 3 2 0 4 2 3 3 2 4 4 0 2 2 2\n",
            " 0 1 4 4 2 1 1 1 1 2 3 4 0 1 1 0 3 4 0 4 2 2 2 3 0 0 4 1 0 0 2 3 1 0 2 4 2\n",
            " 4 0 1 3 0 2 3 1 0 2 2 2 4 0 0 1 0 0 4 3 3 2 1 1 0 4 4 2 4 0 3 3]\n"
          ]
        }
      ]
    },
    {
      "cell_type": "code",
      "source": [
        "early_stopping = EarlyStopping(monitor='val_loss', patience=5, restore_best_weights=True)\n",
        "model_checkpoint = ModelCheckpoint('best_model.keras', monitor='val_loss', save_best_only=True)\n",
        "train_sentences, val_sentences, train_labels, val_labels = train_test_split(sentences, labels, test_size=0.2, random_state=42)\n",
        "\n",
        "tokenizer = fit_tokenizer(train_sentences, NUM_WORDS, OOV_TOKEN)\n",
        "train_padded_seq = seq_and_pad(train_sentences, tokenizer, PADDING, MAXLEN)\n",
        "val_padded_seq = seq_and_pad(val_sentences, tokenizer, PADDING, MAXLEN)\n",
        "train_label_seq = tokenize_labels(labels, train_labels)\n",
        "val_label_seq = tokenize_labels(labels, val_labels)\n",
        "\n",
        "model = tf.keras.Sequential([\n",
        "    tf.keras.layers.Embedding(NUM_WORDS, EMBEDDING_DIM, input_length=MAXLEN),\n",
        "    tf.keras.layers.GlobalAveragePooling1D(),\n",
        "    tf.keras.layers.Dense(64, activation='relu'),\n",
        "    tf.keras.layers.Dense(len(set(labels)), activation='softmax')\n",
        "])\n",
        "\n",
        "model.compile(loss='sparse_categorical_crossentropy',\n",
        "              optimizer='adam',\n",
        "              metrics=['accuracy'])\n",
        "\n",
        "history = model.fit(train_padded_seq, train_label_seq, epochs=60, validation_split=0.2, batch_size=32,\n",
        "                    validation_data=(val_padded_seq, val_label_seq),\n",
        "                    callbacks=[early_stopping, model_checkpoint])\n",
        "best_model = tf.keras.models.load_model('best_model.keras')\n",
        "val_loss, val_accuracy = best_model.evaluate(val_padded_seq, val_label_seq)\n",
        "print(\"Validation Loss:\", val_loss)\n",
        "print(\"Validation Accuracy:\", val_accuracy)"
      ],
      "metadata": {
        "id": "8zqwCbnq4MIs",
        "colab": {
          "base_uri": "https://localhost:8080/"
        },
        "outputId": "e10824c8-9111-442c-d95e-fc6b9e34f020"
      },
      "execution_count": 32,
      "outputs": [
        {
          "output_type": "stream",
          "name": "stdout",
          "text": [
            "Epoch 1/60\n",
            "\u001b[1m38/38\u001b[0m \u001b[32m━━━━━━━━━━━━━━━━━━━━\u001b[0m\u001b[37m\u001b[0m \u001b[1m4s\u001b[0m 55ms/step - accuracy: 0.2723 - loss: 1.6052 - val_accuracy: 0.2148 - val_loss: 1.5873\n",
            "Epoch 2/60\n",
            "\u001b[1m38/38\u001b[0m \u001b[32m━━━━━━━━━━━━━━━━━━━━\u001b[0m\u001b[37m\u001b[0m \u001b[1m0s\u001b[0m 3ms/step - accuracy: 0.2525 - loss: 1.5749 - val_accuracy: 0.4094 - val_loss: 1.5312\n",
            "Epoch 3/60\n",
            "\u001b[1m38/38\u001b[0m \u001b[32m━━━━━━━━━━━━━━━━━━━━\u001b[0m\u001b[37m\u001b[0m \u001b[1m0s\u001b[0m 3ms/step - accuracy: 0.4443 - loss: 1.5026 - val_accuracy: 0.6040 - val_loss: 1.3979\n",
            "Epoch 4/60\n",
            "\u001b[1m38/38\u001b[0m \u001b[32m━━━━━━━━━━━━━━━━━━━━\u001b[0m\u001b[37m\u001b[0m \u001b[1m0s\u001b[0m 3ms/step - accuracy: 0.5986 - loss: 1.3464 - val_accuracy: 0.7315 - val_loss: 1.1852\n",
            "Epoch 5/60\n",
            "\u001b[1m38/38\u001b[0m \u001b[32m━━━━━━━━━━━━━━━━━━━━\u001b[0m\u001b[37m\u001b[0m \u001b[1m0s\u001b[0m 3ms/step - accuracy: 0.7599 - loss: 1.1110 - val_accuracy: 0.8423 - val_loss: 0.9398\n",
            "Epoch 6/60\n",
            "\u001b[1m38/38\u001b[0m \u001b[32m━━━━━━━━━━━━━━━━━━━━\u001b[0m\u001b[37m\u001b[0m \u001b[1m0s\u001b[0m 3ms/step - accuracy: 0.8649 - loss: 0.8574 - val_accuracy: 0.8658 - val_loss: 0.7269\n",
            "Epoch 7/60\n",
            "\u001b[1m38/38\u001b[0m \u001b[32m━━━━━━━━━━━━━━━━━━━━\u001b[0m\u001b[37m\u001b[0m \u001b[1m0s\u001b[0m 3ms/step - accuracy: 0.9025 - loss: 0.6482 - val_accuracy: 0.8859 - val_loss: 0.5681\n",
            "Epoch 8/60\n",
            "\u001b[1m38/38\u001b[0m \u001b[32m━━━━━━━━━━━━━━━━━━━━\u001b[0m\u001b[37m\u001b[0m \u001b[1m0s\u001b[0m 3ms/step - accuracy: 0.9225 - loss: 0.4930 - val_accuracy: 0.9094 - val_loss: 0.4532\n",
            "Epoch 9/60\n",
            "\u001b[1m38/38\u001b[0m \u001b[32m━━━━━━━━━━━━━━━━━━━━\u001b[0m\u001b[37m\u001b[0m \u001b[1m0s\u001b[0m 3ms/step - accuracy: 0.9389 - loss: 0.3811 - val_accuracy: 0.9295 - val_loss: 0.3742\n",
            "Epoch 10/60\n",
            "\u001b[1m38/38\u001b[0m \u001b[32m━━━━━━━━━━━━━━━━━━━━\u001b[0m\u001b[37m\u001b[0m \u001b[1m0s\u001b[0m 3ms/step - accuracy: 0.9515 - loss: 0.3023 - val_accuracy: 0.9329 - val_loss: 0.3190\n",
            "Epoch 11/60\n",
            "\u001b[1m38/38\u001b[0m \u001b[32m━━━━━━━━━━━━━━━━━━━━\u001b[0m\u001b[37m\u001b[0m \u001b[1m0s\u001b[0m 3ms/step - accuracy: 0.9586 - loss: 0.2459 - val_accuracy: 0.9362 - val_loss: 0.2810\n",
            "Epoch 12/60\n",
            "\u001b[1m38/38\u001b[0m \u001b[32m━━━━━━━━━━━━━━━━━━━━\u001b[0m\u001b[37m\u001b[0m \u001b[1m0s\u001b[0m 3ms/step - accuracy: 0.9633 - loss: 0.2049 - val_accuracy: 0.9362 - val_loss: 0.2536\n",
            "Epoch 13/60\n",
            "\u001b[1m38/38\u001b[0m \u001b[32m━━━━━━━━━━━━━━━━━━━━\u001b[0m\u001b[37m\u001b[0m \u001b[1m0s\u001b[0m 3ms/step - accuracy: 0.9672 - loss: 0.1740 - val_accuracy: 0.9362 - val_loss: 0.2331\n",
            "Epoch 14/60\n",
            "\u001b[1m38/38\u001b[0m \u001b[32m━━━━━━━━━━━━━━━━━━━━\u001b[0m\u001b[37m\u001b[0m \u001b[1m0s\u001b[0m 3ms/step - accuracy: 0.9711 - loss: 0.1498 - val_accuracy: 0.9396 - val_loss: 0.2173\n",
            "Epoch 15/60\n",
            "\u001b[1m38/38\u001b[0m \u001b[32m━━━━━━━━━━━━━━━━━━━━\u001b[0m\u001b[37m\u001b[0m \u001b[1m0s\u001b[0m 3ms/step - accuracy: 0.9747 - loss: 0.1303 - val_accuracy: 0.9430 - val_loss: 0.2048\n",
            "Epoch 16/60\n",
            "\u001b[1m38/38\u001b[0m \u001b[32m━━━━━━━━━━━━━━━━━━━━\u001b[0m\u001b[37m\u001b[0m \u001b[1m0s\u001b[0m 3ms/step - accuracy: 0.9750 - loss: 0.1142 - val_accuracy: 0.9463 - val_loss: 0.1948\n",
            "Epoch 17/60\n",
            "\u001b[1m38/38\u001b[0m \u001b[32m━━━━━━━━━━━━━━━━━━━━\u001b[0m\u001b[37m\u001b[0m \u001b[1m0s\u001b[0m 3ms/step - accuracy: 0.9765 - loss: 0.1007 - val_accuracy: 0.9463 - val_loss: 0.1866\n",
            "Epoch 18/60\n",
            "\u001b[1m38/38\u001b[0m \u001b[32m━━━━━━━━━━━━━━━━━━━━\u001b[0m\u001b[37m\u001b[0m \u001b[1m0s\u001b[0m 4ms/step - accuracy: 0.9847 - loss: 0.0892 - val_accuracy: 0.9463 - val_loss: 0.1799\n",
            "Epoch 19/60\n",
            "\u001b[1m38/38\u001b[0m \u001b[32m━━━━━━━━━━━━━━━━━━━━\u001b[0m\u001b[37m\u001b[0m \u001b[1m0s\u001b[0m 3ms/step - accuracy: 0.9859 - loss: 0.0794 - val_accuracy: 0.9497 - val_loss: 0.1742\n",
            "Epoch 20/60\n",
            "\u001b[1m38/38\u001b[0m \u001b[32m━━━━━━━━━━━━━━━━━━━━\u001b[0m\u001b[37m\u001b[0m \u001b[1m0s\u001b[0m 3ms/step - accuracy: 0.9893 - loss: 0.0709 - val_accuracy: 0.9530 - val_loss: 0.1695\n",
            "Epoch 21/60\n",
            "\u001b[1m38/38\u001b[0m \u001b[32m━━━━━━━━━━━━━━━━━━━━\u001b[0m\u001b[37m\u001b[0m \u001b[1m0s\u001b[0m 3ms/step - accuracy: 0.9928 - loss: 0.0635 - val_accuracy: 0.9564 - val_loss: 0.1655\n",
            "Epoch 22/60\n",
            "\u001b[1m38/38\u001b[0m \u001b[32m━━━━━━━━━━━━━━━━━━━━\u001b[0m\u001b[37m\u001b[0m \u001b[1m0s\u001b[0m 3ms/step - accuracy: 0.9933 - loss: 0.0570 - val_accuracy: 0.9564 - val_loss: 0.1621\n",
            "Epoch 23/60\n",
            "\u001b[1m38/38\u001b[0m \u001b[32m━━━━━━━━━━━━━━━━━━━━\u001b[0m\u001b[37m\u001b[0m \u001b[1m0s\u001b[0m 3ms/step - accuracy: 0.9959 - loss: 0.0513 - val_accuracy: 0.9564 - val_loss: 0.1591\n",
            "Epoch 24/60\n",
            "\u001b[1m38/38\u001b[0m \u001b[32m━━━━━━━━━━━━━━━━━━━━\u001b[0m\u001b[37m\u001b[0m \u001b[1m0s\u001b[0m 4ms/step - accuracy: 0.9959 - loss: 0.0463 - val_accuracy: 0.9564 - val_loss: 0.1565\n",
            "Epoch 25/60\n",
            "\u001b[1m38/38\u001b[0m \u001b[32m━━━━━━━━━━━━━━━━━━━━\u001b[0m\u001b[37m\u001b[0m \u001b[1m0s\u001b[0m 3ms/step - accuracy: 0.9958 - loss: 0.0418 - val_accuracy: 0.9564 - val_loss: 0.1543\n",
            "Epoch 26/60\n",
            "\u001b[1m38/38\u001b[0m \u001b[32m━━━━━━━━━━━━━━━━━━━━\u001b[0m\u001b[37m\u001b[0m \u001b[1m0s\u001b[0m 3ms/step - accuracy: 0.9958 - loss: 0.0378 - val_accuracy: 0.9597 - val_loss: 0.1524\n",
            "Epoch 27/60\n",
            "\u001b[1m38/38\u001b[0m \u001b[32m━━━━━━━━━━━━━━━━━━━━\u001b[0m\u001b[37m\u001b[0m \u001b[1m0s\u001b[0m 3ms/step - accuracy: 0.9993 - loss: 0.0343 - val_accuracy: 0.9631 - val_loss: 0.1508\n",
            "Epoch 28/60\n",
            "\u001b[1m38/38\u001b[0m \u001b[32m━━━━━━━━━━━━━━━━━━━━\u001b[0m\u001b[37m\u001b[0m \u001b[1m0s\u001b[0m 3ms/step - accuracy: 1.0000 - loss: 0.0311 - val_accuracy: 0.9631 - val_loss: 0.1494\n",
            "Epoch 29/60\n",
            "\u001b[1m38/38\u001b[0m \u001b[32m━━━━━━━━━━━━━━━━━━━━\u001b[0m\u001b[37m\u001b[0m \u001b[1m0s\u001b[0m 3ms/step - accuracy: 1.0000 - loss: 0.0282 - val_accuracy: 0.9664 - val_loss: 0.1484\n",
            "Epoch 30/60\n",
            "\u001b[1m38/38\u001b[0m \u001b[32m━━━━━━━━━━━━━━━━━━━━\u001b[0m\u001b[37m\u001b[0m \u001b[1m0s\u001b[0m 3ms/step - accuracy: 1.0000 - loss: 0.0256 - val_accuracy: 0.9664 - val_loss: 0.1476\n",
            "Epoch 31/60\n",
            "\u001b[1m38/38\u001b[0m \u001b[32m━━━━━━━━━━━━━━━━━━━━\u001b[0m\u001b[37m\u001b[0m \u001b[1m0s\u001b[0m 3ms/step - accuracy: 1.0000 - loss: 0.0232 - val_accuracy: 0.9631 - val_loss: 0.1471\n",
            "Epoch 32/60\n",
            "\u001b[1m38/38\u001b[0m \u001b[32m━━━━━━━━━━━━━━━━━━━━\u001b[0m\u001b[37m\u001b[0m \u001b[1m0s\u001b[0m 3ms/step - accuracy: 1.0000 - loss: 0.0211 - val_accuracy: 0.9631 - val_loss: 0.1468\n",
            "Epoch 33/60\n",
            "\u001b[1m38/38\u001b[0m \u001b[32m━━━━━━━━━━━━━━━━━━━━\u001b[0m\u001b[37m\u001b[0m \u001b[1m0s\u001b[0m 3ms/step - accuracy: 1.0000 - loss: 0.0192 - val_accuracy: 0.9631 - val_loss: 0.1468\n",
            "Epoch 34/60\n",
            "\u001b[1m38/38\u001b[0m \u001b[32m━━━━━━━━━━━━━━━━━━━━\u001b[0m\u001b[37m\u001b[0m \u001b[1m0s\u001b[0m 3ms/step - accuracy: 1.0000 - loss: 0.0175 - val_accuracy: 0.9597 - val_loss: 0.1469\n",
            "Epoch 35/60\n",
            "\u001b[1m38/38\u001b[0m \u001b[32m━━━━━━━━━━━━━━━━━━━━\u001b[0m\u001b[37m\u001b[0m \u001b[1m0s\u001b[0m 3ms/step - accuracy: 1.0000 - loss: 0.0160 - val_accuracy: 0.9597 - val_loss: 0.1473\n",
            "Epoch 36/60\n",
            "\u001b[1m38/38\u001b[0m \u001b[32m━━━━━━━━━━━━━━━━━━━━\u001b[0m\u001b[37m\u001b[0m \u001b[1m0s\u001b[0m 4ms/step - accuracy: 1.0000 - loss: 0.0146 - val_accuracy: 0.9597 - val_loss: 0.1477\n",
            "Epoch 37/60\n",
            "\u001b[1m38/38\u001b[0m \u001b[32m━━━━━━━━━━━━━━━━━━━━\u001b[0m\u001b[37m\u001b[0m \u001b[1m0s\u001b[0m 3ms/step - accuracy: 1.0000 - loss: 0.0134 - val_accuracy: 0.9597 - val_loss: 0.1483\n",
            "Epoch 38/60\n",
            "\u001b[1m38/38\u001b[0m \u001b[32m━━━━━━━━━━━━━━━━━━━━\u001b[0m\u001b[37m\u001b[0m \u001b[1m0s\u001b[0m 4ms/step - accuracy: 1.0000 - loss: 0.0124 - val_accuracy: 0.9597 - val_loss: 0.1489\n",
            "\u001b[1m10/10\u001b[0m \u001b[32m━━━━━━━━━━━━━━━━━━━━\u001b[0m\u001b[37m\u001b[0m \u001b[1m1s\u001b[0m 68ms/step - accuracy: 0.9516 - loss: 0.2040\n",
            "Validation Loss: 0.14678305387496948\n",
            "Validation Accuracy: 0.963087260723114\n"
          ]
        }
      ]
    },
    {
      "cell_type": "code",
      "source": [
        "best_model = tf.keras.models.load_model('best_model.keras')\n",
        "predictions = best_model.predict(test_padded_seq)"
      ],
      "metadata": {
        "colab": {
          "base_uri": "https://localhost:8080/"
        },
        "id": "4-qFNt_7qum4",
        "outputId": "9346bf33-7d8d-421e-f4f0-aff2d3b90298"
      },
      "execution_count": 33,
      "outputs": [
        {
          "output_type": "stream",
          "name": "stdout",
          "text": [
            "\u001b[1m23/23\u001b[0m \u001b[32m━━━━━━━━━━━━━━━━━━━━\u001b[0m\u001b[37m\u001b[0m \u001b[1m0s\u001b[0m 12ms/step\n"
          ]
        }
      ]
    },
    {
      "cell_type": "code",
      "source": [
        "predicted_labels = np.argmax(predictions, axis=1)\n",
        "unique_labels = np.unique(labels)\n",
        "label_to_category = {i: label for i, label in enumerate(unique_labels)}\n",
        "predicted_categories = [label_to_category[label] for label in predicted_labels]\n",
        "submission_df = pd.DataFrame({\n",
        "    'ArticleId': test_ids,\n",
        "    'Category': predicted_categories\n",
        "})\n",
        "\n",
        "submission_df.to_csv('Submission.csv', index=False)\n",
        "\n",
        "print(\"Submission.csv\")\n",
        "submission_df.head(10)"
      ],
      "metadata": {
        "colab": {
          "base_uri": "https://localhost:8080/",
          "height": 380
        },
        "id": "FAp96g7OnYvj",
        "outputId": "5aa2621b-f891-4c9b-ada2-6839abd3e7c9"
      },
      "execution_count": 34,
      "outputs": [
        {
          "output_type": "stream",
          "name": "stdout",
          "text": [
            "Submission.csv\n"
          ]
        },
        {
          "output_type": "execute_result",
          "data": {
            "text/plain": [
              "  ArticleId       Category\n",
              "0      1018       business\n",
              "1      1319  entertainment\n",
              "2      1138          sport\n",
              "3       459  entertainment\n",
              "4      1020       business\n",
              "5        51       politics\n",
              "6      2025       politics\n",
              "7      1479           tech\n",
              "8        27  entertainment\n",
              "9       397           tech"
            ],
            "text/html": [
              "\n",
              "  <div id=\"df-4eb77fd1-b1e0-48e2-8f2a-205234084f64\" class=\"colab-df-container\">\n",
              "    <div>\n",
              "<style scoped>\n",
              "    .dataframe tbody tr th:only-of-type {\n",
              "        vertical-align: middle;\n",
              "    }\n",
              "\n",
              "    .dataframe tbody tr th {\n",
              "        vertical-align: top;\n",
              "    }\n",
              "\n",
              "    .dataframe thead th {\n",
              "        text-align: right;\n",
              "    }\n",
              "</style>\n",
              "<table border=\"1\" class=\"dataframe\">\n",
              "  <thead>\n",
              "    <tr style=\"text-align: right;\">\n",
              "      <th></th>\n",
              "      <th>ArticleId</th>\n",
              "      <th>Category</th>\n",
              "    </tr>\n",
              "  </thead>\n",
              "  <tbody>\n",
              "    <tr>\n",
              "      <th>0</th>\n",
              "      <td>1018</td>\n",
              "      <td>business</td>\n",
              "    </tr>\n",
              "    <tr>\n",
              "      <th>1</th>\n",
              "      <td>1319</td>\n",
              "      <td>entertainment</td>\n",
              "    </tr>\n",
              "    <tr>\n",
              "      <th>2</th>\n",
              "      <td>1138</td>\n",
              "      <td>sport</td>\n",
              "    </tr>\n",
              "    <tr>\n",
              "      <th>3</th>\n",
              "      <td>459</td>\n",
              "      <td>entertainment</td>\n",
              "    </tr>\n",
              "    <tr>\n",
              "      <th>4</th>\n",
              "      <td>1020</td>\n",
              "      <td>business</td>\n",
              "    </tr>\n",
              "    <tr>\n",
              "      <th>5</th>\n",
              "      <td>51</td>\n",
              "      <td>politics</td>\n",
              "    </tr>\n",
              "    <tr>\n",
              "      <th>6</th>\n",
              "      <td>2025</td>\n",
              "      <td>politics</td>\n",
              "    </tr>\n",
              "    <tr>\n",
              "      <th>7</th>\n",
              "      <td>1479</td>\n",
              "      <td>tech</td>\n",
              "    </tr>\n",
              "    <tr>\n",
              "      <th>8</th>\n",
              "      <td>27</td>\n",
              "      <td>entertainment</td>\n",
              "    </tr>\n",
              "    <tr>\n",
              "      <th>9</th>\n",
              "      <td>397</td>\n",
              "      <td>tech</td>\n",
              "    </tr>\n",
              "  </tbody>\n",
              "</table>\n",
              "</div>\n",
              "    <div class=\"colab-df-buttons\">\n",
              "\n",
              "  <div class=\"colab-df-container\">\n",
              "    <button class=\"colab-df-convert\" onclick=\"convertToInteractive('df-4eb77fd1-b1e0-48e2-8f2a-205234084f64')\"\n",
              "            title=\"Convert this dataframe to an interactive table.\"\n",
              "            style=\"display:none;\">\n",
              "\n",
              "  <svg xmlns=\"http://www.w3.org/2000/svg\" height=\"24px\" viewBox=\"0 -960 960 960\">\n",
              "    <path d=\"M120-120v-720h720v720H120Zm60-500h600v-160H180v160Zm220 220h160v-160H400v160Zm0 220h160v-160H400v160ZM180-400h160v-160H180v160Zm440 0h160v-160H620v160ZM180-180h160v-160H180v160Zm440 0h160v-160H620v160Z\"/>\n",
              "  </svg>\n",
              "    </button>\n",
              "\n",
              "  <style>\n",
              "    .colab-df-container {\n",
              "      display:flex;\n",
              "      gap: 12px;\n",
              "    }\n",
              "\n",
              "    .colab-df-convert {\n",
              "      background-color: #E8F0FE;\n",
              "      border: none;\n",
              "      border-radius: 50%;\n",
              "      cursor: pointer;\n",
              "      display: none;\n",
              "      fill: #1967D2;\n",
              "      height: 32px;\n",
              "      padding: 0 0 0 0;\n",
              "      width: 32px;\n",
              "    }\n",
              "\n",
              "    .colab-df-convert:hover {\n",
              "      background-color: #E2EBFA;\n",
              "      box-shadow: 0px 1px 2px rgba(60, 64, 67, 0.3), 0px 1px 3px 1px rgba(60, 64, 67, 0.15);\n",
              "      fill: #174EA6;\n",
              "    }\n",
              "\n",
              "    .colab-df-buttons div {\n",
              "      margin-bottom: 4px;\n",
              "    }\n",
              "\n",
              "    [theme=dark] .colab-df-convert {\n",
              "      background-color: #3B4455;\n",
              "      fill: #D2E3FC;\n",
              "    }\n",
              "\n",
              "    [theme=dark] .colab-df-convert:hover {\n",
              "      background-color: #434B5C;\n",
              "      box-shadow: 0px 1px 3px 1px rgba(0, 0, 0, 0.15);\n",
              "      filter: drop-shadow(0px 1px 2px rgba(0, 0, 0, 0.3));\n",
              "      fill: #FFFFFF;\n",
              "    }\n",
              "  </style>\n",
              "\n",
              "    <script>\n",
              "      const buttonEl =\n",
              "        document.querySelector('#df-4eb77fd1-b1e0-48e2-8f2a-205234084f64 button.colab-df-convert');\n",
              "      buttonEl.style.display =\n",
              "        google.colab.kernel.accessAllowed ? 'block' : 'none';\n",
              "\n",
              "      async function convertToInteractive(key) {\n",
              "        const element = document.querySelector('#df-4eb77fd1-b1e0-48e2-8f2a-205234084f64');\n",
              "        const dataTable =\n",
              "          await google.colab.kernel.invokeFunction('convertToInteractive',\n",
              "                                                    [key], {});\n",
              "        if (!dataTable) return;\n",
              "\n",
              "        const docLinkHtml = 'Like what you see? Visit the ' +\n",
              "          '<a target=\"_blank\" href=https://colab.research.google.com/notebooks/data_table.ipynb>data table notebook</a>'\n",
              "          + ' to learn more about interactive tables.';\n",
              "        element.innerHTML = '';\n",
              "        dataTable['output_type'] = 'display_data';\n",
              "        await google.colab.output.renderOutput(dataTable, element);\n",
              "        const docLink = document.createElement('div');\n",
              "        docLink.innerHTML = docLinkHtml;\n",
              "        element.appendChild(docLink);\n",
              "      }\n",
              "    </script>\n",
              "  </div>\n",
              "\n",
              "\n",
              "<div id=\"df-bca52fab-903b-4577-bec1-278c6730e736\">\n",
              "  <button class=\"colab-df-quickchart\" onclick=\"quickchart('df-bca52fab-903b-4577-bec1-278c6730e736')\"\n",
              "            title=\"Suggest charts\"\n",
              "            style=\"display:none;\">\n",
              "\n",
              "<svg xmlns=\"http://www.w3.org/2000/svg\" height=\"24px\"viewBox=\"0 0 24 24\"\n",
              "     width=\"24px\">\n",
              "    <g>\n",
              "        <path d=\"M19 3H5c-1.1 0-2 .9-2 2v14c0 1.1.9 2 2 2h14c1.1 0 2-.9 2-2V5c0-1.1-.9-2-2-2zM9 17H7v-7h2v7zm4 0h-2V7h2v10zm4 0h-2v-4h2v4z\"/>\n",
              "    </g>\n",
              "</svg>\n",
              "  </button>\n",
              "\n",
              "<style>\n",
              "  .colab-df-quickchart {\n",
              "      --bg-color: #E8F0FE;\n",
              "      --fill-color: #1967D2;\n",
              "      --hover-bg-color: #E2EBFA;\n",
              "      --hover-fill-color: #174EA6;\n",
              "      --disabled-fill-color: #AAA;\n",
              "      --disabled-bg-color: #DDD;\n",
              "  }\n",
              "\n",
              "  [theme=dark] .colab-df-quickchart {\n",
              "      --bg-color: #3B4455;\n",
              "      --fill-color: #D2E3FC;\n",
              "      --hover-bg-color: #434B5C;\n",
              "      --hover-fill-color: #FFFFFF;\n",
              "      --disabled-bg-color: #3B4455;\n",
              "      --disabled-fill-color: #666;\n",
              "  }\n",
              "\n",
              "  .colab-df-quickchart {\n",
              "    background-color: var(--bg-color);\n",
              "    border: none;\n",
              "    border-radius: 50%;\n",
              "    cursor: pointer;\n",
              "    display: none;\n",
              "    fill: var(--fill-color);\n",
              "    height: 32px;\n",
              "    padding: 0;\n",
              "    width: 32px;\n",
              "  }\n",
              "\n",
              "  .colab-df-quickchart:hover {\n",
              "    background-color: var(--hover-bg-color);\n",
              "    box-shadow: 0 1px 2px rgba(60, 64, 67, 0.3), 0 1px 3px 1px rgba(60, 64, 67, 0.15);\n",
              "    fill: var(--button-hover-fill-color);\n",
              "  }\n",
              "\n",
              "  .colab-df-quickchart-complete:disabled,\n",
              "  .colab-df-quickchart-complete:disabled:hover {\n",
              "    background-color: var(--disabled-bg-color);\n",
              "    fill: var(--disabled-fill-color);\n",
              "    box-shadow: none;\n",
              "  }\n",
              "\n",
              "  .colab-df-spinner {\n",
              "    border: 2px solid var(--fill-color);\n",
              "    border-color: transparent;\n",
              "    border-bottom-color: var(--fill-color);\n",
              "    animation:\n",
              "      spin 1s steps(1) infinite;\n",
              "  }\n",
              "\n",
              "  @keyframes spin {\n",
              "    0% {\n",
              "      border-color: transparent;\n",
              "      border-bottom-color: var(--fill-color);\n",
              "      border-left-color: var(--fill-color);\n",
              "    }\n",
              "    20% {\n",
              "      border-color: transparent;\n",
              "      border-left-color: var(--fill-color);\n",
              "      border-top-color: var(--fill-color);\n",
              "    }\n",
              "    30% {\n",
              "      border-color: transparent;\n",
              "      border-left-color: var(--fill-color);\n",
              "      border-top-color: var(--fill-color);\n",
              "      border-right-color: var(--fill-color);\n",
              "    }\n",
              "    40% {\n",
              "      border-color: transparent;\n",
              "      border-right-color: var(--fill-color);\n",
              "      border-top-color: var(--fill-color);\n",
              "    }\n",
              "    60% {\n",
              "      border-color: transparent;\n",
              "      border-right-color: var(--fill-color);\n",
              "    }\n",
              "    80% {\n",
              "      border-color: transparent;\n",
              "      border-right-color: var(--fill-color);\n",
              "      border-bottom-color: var(--fill-color);\n",
              "    }\n",
              "    90% {\n",
              "      border-color: transparent;\n",
              "      border-bottom-color: var(--fill-color);\n",
              "    }\n",
              "  }\n",
              "</style>\n",
              "\n",
              "  <script>\n",
              "    async function quickchart(key) {\n",
              "      const quickchartButtonEl =\n",
              "        document.querySelector('#' + key + ' button');\n",
              "      quickchartButtonEl.disabled = true;  // To prevent multiple clicks.\n",
              "      quickchartButtonEl.classList.add('colab-df-spinner');\n",
              "      try {\n",
              "        const charts = await google.colab.kernel.invokeFunction(\n",
              "            'suggestCharts', [key], {});\n",
              "      } catch (error) {\n",
              "        console.error('Error during call to suggestCharts:', error);\n",
              "      }\n",
              "      quickchartButtonEl.classList.remove('colab-df-spinner');\n",
              "      quickchartButtonEl.classList.add('colab-df-quickchart-complete');\n",
              "    }\n",
              "    (() => {\n",
              "      let quickchartButtonEl =\n",
              "        document.querySelector('#df-bca52fab-903b-4577-bec1-278c6730e736 button');\n",
              "      quickchartButtonEl.style.display =\n",
              "        google.colab.kernel.accessAllowed ? 'block' : 'none';\n",
              "    })();\n",
              "  </script>\n",
              "</div>\n",
              "\n",
              "    </div>\n",
              "  </div>\n"
            ],
            "application/vnd.google.colaboratory.intrinsic+json": {
              "type": "dataframe",
              "variable_name": "submission_df",
              "summary": "{\n  \"name\": \"submission_df\",\n  \"rows\": 735,\n  \"fields\": [\n    {\n      \"column\": \"ArticleId\",\n      \"properties\": {\n        \"dtype\": \"string\",\n        \"num_unique_values\": 735,\n        \"samples\": [\n          \"1810\",\n          \"1556\",\n          \"1288\"\n        ],\n        \"semantic_type\": \"\",\n        \"description\": \"\"\n      }\n    },\n    {\n      \"column\": \"Category\",\n      \"properties\": {\n        \"dtype\": \"category\",\n        \"num_unique_values\": 5,\n        \"samples\": [\n          \"entertainment\",\n          \"tech\",\n          \"sport\"\n        ],\n        \"semantic_type\": \"\",\n        \"description\": \"\"\n      }\n    }\n  ]\n}"
            }
          },
          "metadata": {},
          "execution_count": 34
        }
      ]
    }
  ]
}